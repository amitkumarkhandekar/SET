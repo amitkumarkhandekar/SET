{
  "nbformat": 4,
  "nbformat_minor": 0,
  "metadata": {
    "colab": {
      "name": "Untitled",
      "provenance": [],
      "collapsed_sections": []
    },
    "kernelspec": {
      "name": "python3",
      "display_name": "Python 3"
    },
    "language_info": {
      "name": "python"
    },
    "accelerator": "GPU"
  },
  "cells": [
    {
      "cell_type": "code",
      "execution_count": null,
      "metadata": {
        "id": "P_Ppa-gp2QYi"
      },
      "outputs": [],
      "source": [
        ""
      ]
    },
    {
      "cell_type": "code",
      "source": [
        "from google.colab import drive\n",
        "drive.mount('/content/drive')"
      ],
      "metadata": {
        "colab": {
          "base_uri": "https://localhost:8080/"
        },
        "id": "9H5iQXxu3RNu",
        "outputId": "2dfd0fa1-beb3-48cb-c805-771cca9e00a4"
      },
      "execution_count": 2,
      "outputs": [
        {
          "output_type": "stream",
          "name": "stdout",
          "text": [
            "Drive already mounted at /content/drive; to attempt to forcibly remount, call drive.mount(\"/content/drive\", force_remount=True).\n"
          ]
        }
      ]
    },
    {
      "cell_type": "code",
      "source": [
        "import numpy as np \n",
        "import pandas as pd \n",
        "from sklearn.linear_model import LinearRegression\n",
        "import matplotlib.pyplot as plt\n",
        "from sklearn.model_selection import train_test_split\n"
      ],
      "metadata": {
        "id": "B36CT1spnlVZ"
      },
      "execution_count": 3,
      "outputs": []
    },
    {
      "cell_type": "code",
      "source": [
        "df = pd.read_csv(\"/content/drive/MyDrive/Dataset/Nutrition__Physical_Activity__and_Obesity_-_Behavioral_Risk_Factor_Surveillance_System.csv\")\n"
      ],
      "metadata": {
        "id": "_SDh9iZ3nv47"
      },
      "execution_count": 5,
      "outputs": []
    },
    {
      "cell_type": "code",
      "source": [
        "df.describe()"
      ],
      "metadata": {
        "colab": {
          "base_uri": "https://localhost:8080/",
          "height": 300
        },
        "id": "jXaxNdbFoBYH",
        "outputId": "e04729ab-0bac-4667-f057-2e17bedd9e21"
      },
      "execution_count": 6,
      "outputs": [
        {
          "output_type": "execute_result",
          "data": {
            "text/html": [
              "\n",
              "  <div id=\"df-df558bdc-1467-447d-8390-57f9d00230f8\">\n",
              "    <div class=\"colab-df-container\">\n",
              "      <div>\n",
              "<style scoped>\n",
              "    .dataframe tbody tr th:only-of-type {\n",
              "        vertical-align: middle;\n",
              "    }\n",
              "\n",
              "    .dataframe tbody tr th {\n",
              "        vertical-align: top;\n",
              "    }\n",
              "\n",
              "    .dataframe thead th {\n",
              "        text-align: right;\n",
              "    }\n",
              "</style>\n",
              "<table border=\"1\" class=\"dataframe\">\n",
              "  <thead>\n",
              "    <tr style=\"text-align: right;\">\n",
              "      <th></th>\n",
              "      <th>YearStart</th>\n",
              "      <th>YearEnd</th>\n",
              "      <th>Data_Value_Unit</th>\n",
              "      <th>Data_Value</th>\n",
              "      <th>Data_Value_Alt</th>\n",
              "      <th>Low_Confidence_Limit</th>\n",
              "      <th>High_Confidence_Limit</th>\n",
              "      <th>Sample_Size</th>\n",
              "      <th>LocationID</th>\n",
              "    </tr>\n",
              "  </thead>\n",
              "  <tbody>\n",
              "    <tr>\n",
              "      <th>count</th>\n",
              "      <td>53392.000000</td>\n",
              "      <td>53392.000000</td>\n",
              "      <td>0.0</td>\n",
              "      <td>48346.000000</td>\n",
              "      <td>48346.000000</td>\n",
              "      <td>48346.000000</td>\n",
              "      <td>48346.000000</td>\n",
              "      <td>48346.00000</td>\n",
              "      <td>53392.000000</td>\n",
              "    </tr>\n",
              "    <tr>\n",
              "      <th>mean</th>\n",
              "      <td>2013.281465</td>\n",
              "      <td>2013.281465</td>\n",
              "      <td>NaN</td>\n",
              "      <td>31.156681</td>\n",
              "      <td>31.156681</td>\n",
              "      <td>26.892227</td>\n",
              "      <td>35.989997</td>\n",
              "      <td>3889.19286</td>\n",
              "      <td>30.282215</td>\n",
              "    </tr>\n",
              "    <tr>\n",
              "      <th>std</th>\n",
              "      <td>1.693300</td>\n",
              "      <td>1.693300</td>\n",
              "      <td>NaN</td>\n",
              "      <td>10.247033</td>\n",
              "      <td>10.247033</td>\n",
              "      <td>10.038584</td>\n",
              "      <td>11.205813</td>\n",
              "      <td>19829.42129</td>\n",
              "      <td>16.821318</td>\n",
              "    </tr>\n",
              "    <tr>\n",
              "      <th>min</th>\n",
              "      <td>2011.000000</td>\n",
              "      <td>2011.000000</td>\n",
              "      <td>NaN</td>\n",
              "      <td>0.900000</td>\n",
              "      <td>0.900000</td>\n",
              "      <td>0.300000</td>\n",
              "      <td>3.000000</td>\n",
              "      <td>50.00000</td>\n",
              "      <td>1.000000</td>\n",
              "    </tr>\n",
              "    <tr>\n",
              "      <th>25%</th>\n",
              "      <td>2012.000000</td>\n",
              "      <td>2012.000000</td>\n",
              "      <td>NaN</td>\n",
              "      <td>24.100000</td>\n",
              "      <td>24.100000</td>\n",
              "      <td>20.000000</td>\n",
              "      <td>28.200000</td>\n",
              "      <td>566.00000</td>\n",
              "      <td>17.000000</td>\n",
              "    </tr>\n",
              "    <tr>\n",
              "      <th>50%</th>\n",
              "      <td>2013.000000</td>\n",
              "      <td>2013.000000</td>\n",
              "      <td>NaN</td>\n",
              "      <td>30.700000</td>\n",
              "      <td>30.700000</td>\n",
              "      <td>26.450000</td>\n",
              "      <td>35.600000</td>\n",
              "      <td>1209.00000</td>\n",
              "      <td>30.000000</td>\n",
              "    </tr>\n",
              "    <tr>\n",
              "      <th>75%</th>\n",
              "      <td>2015.000000</td>\n",
              "      <td>2015.000000</td>\n",
              "      <td>NaN</td>\n",
              "      <td>37.000000</td>\n",
              "      <td>37.000000</td>\n",
              "      <td>32.900000</td>\n",
              "      <td>42.200000</td>\n",
              "      <td>2519.00000</td>\n",
              "      <td>44.000000</td>\n",
              "    </tr>\n",
              "    <tr>\n",
              "      <th>max</th>\n",
              "      <td>2016.000000</td>\n",
              "      <td>2016.000000</td>\n",
              "      <td>NaN</td>\n",
              "      <td>77.600000</td>\n",
              "      <td>77.600000</td>\n",
              "      <td>69.500000</td>\n",
              "      <td>87.700000</td>\n",
              "      <td>476876.00000</td>\n",
              "      <td>78.000000</td>\n",
              "    </tr>\n",
              "  </tbody>\n",
              "</table>\n",
              "</div>\n",
              "      <button class=\"colab-df-convert\" onclick=\"convertToInteractive('df-df558bdc-1467-447d-8390-57f9d00230f8')\"\n",
              "              title=\"Convert this dataframe to an interactive table.\"\n",
              "              style=\"display:none;\">\n",
              "        \n",
              "  <svg xmlns=\"http://www.w3.org/2000/svg\" height=\"24px\"viewBox=\"0 0 24 24\"\n",
              "       width=\"24px\">\n",
              "    <path d=\"M0 0h24v24H0V0z\" fill=\"none\"/>\n",
              "    <path d=\"M18.56 5.44l.94 2.06.94-2.06 2.06-.94-2.06-.94-.94-2.06-.94 2.06-2.06.94zm-11 1L8.5 8.5l.94-2.06 2.06-.94-2.06-.94L8.5 2.5l-.94 2.06-2.06.94zm10 10l.94 2.06.94-2.06 2.06-.94-2.06-.94-.94-2.06-.94 2.06-2.06.94z\"/><path d=\"M17.41 7.96l-1.37-1.37c-.4-.4-.92-.59-1.43-.59-.52 0-1.04.2-1.43.59L10.3 9.45l-7.72 7.72c-.78.78-.78 2.05 0 2.83L4 21.41c.39.39.9.59 1.41.59.51 0 1.02-.2 1.41-.59l7.78-7.78 2.81-2.81c.8-.78.8-2.07 0-2.86zM5.41 20L4 18.59l7.72-7.72 1.47 1.35L5.41 20z\"/>\n",
              "  </svg>\n",
              "      </button>\n",
              "      \n",
              "  <style>\n",
              "    .colab-df-container {\n",
              "      display:flex;\n",
              "      flex-wrap:wrap;\n",
              "      gap: 12px;\n",
              "    }\n",
              "\n",
              "    .colab-df-convert {\n",
              "      background-color: #E8F0FE;\n",
              "      border: none;\n",
              "      border-radius: 50%;\n",
              "      cursor: pointer;\n",
              "      display: none;\n",
              "      fill: #1967D2;\n",
              "      height: 32px;\n",
              "      padding: 0 0 0 0;\n",
              "      width: 32px;\n",
              "    }\n",
              "\n",
              "    .colab-df-convert:hover {\n",
              "      background-color: #E2EBFA;\n",
              "      box-shadow: 0px 1px 2px rgba(60, 64, 67, 0.3), 0px 1px 3px 1px rgba(60, 64, 67, 0.15);\n",
              "      fill: #174EA6;\n",
              "    }\n",
              "\n",
              "    [theme=dark] .colab-df-convert {\n",
              "      background-color: #3B4455;\n",
              "      fill: #D2E3FC;\n",
              "    }\n",
              "\n",
              "    [theme=dark] .colab-df-convert:hover {\n",
              "      background-color: #434B5C;\n",
              "      box-shadow: 0px 1px 3px 1px rgba(0, 0, 0, 0.15);\n",
              "      filter: drop-shadow(0px 1px 2px rgba(0, 0, 0, 0.3));\n",
              "      fill: #FFFFFF;\n",
              "    }\n",
              "  </style>\n",
              "\n",
              "      <script>\n",
              "        const buttonEl =\n",
              "          document.querySelector('#df-df558bdc-1467-447d-8390-57f9d00230f8 button.colab-df-convert');\n",
              "        buttonEl.style.display =\n",
              "          google.colab.kernel.accessAllowed ? 'block' : 'none';\n",
              "\n",
              "        async function convertToInteractive(key) {\n",
              "          const element = document.querySelector('#df-df558bdc-1467-447d-8390-57f9d00230f8');\n",
              "          const dataTable =\n",
              "            await google.colab.kernel.invokeFunction('convertToInteractive',\n",
              "                                                     [key], {});\n",
              "          if (!dataTable) return;\n",
              "\n",
              "          const docLinkHtml = 'Like what you see? Visit the ' +\n",
              "            '<a target=\"_blank\" href=https://colab.research.google.com/notebooks/data_table.ipynb>data table notebook</a>'\n",
              "            + ' to learn more about interactive tables.';\n",
              "          element.innerHTML = '';\n",
              "          dataTable['output_type'] = 'display_data';\n",
              "          await google.colab.output.renderOutput(dataTable, element);\n",
              "          const docLink = document.createElement('div');\n",
              "          docLink.innerHTML = docLinkHtml;\n",
              "          element.appendChild(docLink);\n",
              "        }\n",
              "      </script>\n",
              "    </div>\n",
              "  </div>\n",
              "  "
            ],
            "text/plain": [
              "          YearStart       YearEnd  ...   Sample_Size    LocationID\n",
              "count  53392.000000  53392.000000  ...   48346.00000  53392.000000\n",
              "mean    2013.281465   2013.281465  ...    3889.19286     30.282215\n",
              "std        1.693300      1.693300  ...   19829.42129     16.821318\n",
              "min     2011.000000   2011.000000  ...      50.00000      1.000000\n",
              "25%     2012.000000   2012.000000  ...     566.00000     17.000000\n",
              "50%     2013.000000   2013.000000  ...    1209.00000     30.000000\n",
              "75%     2015.000000   2015.000000  ...    2519.00000     44.000000\n",
              "max     2016.000000   2016.000000  ...  476876.00000     78.000000\n",
              "\n",
              "[8 rows x 9 columns]"
            ]
          },
          "metadata": {},
          "execution_count": 6
        }
      ]
    },
    {
      "cell_type": "code",
      "source": [
        "wrangled = df[df['StratificationID1'] == 'OVERALL'][['LocationDesc','Data_Value', 'Question', \"YearStart\" ]]\n",
        "question = wrangled[wrangled['Question'] == 'Percent of adults who engage in no leisure-time physical activity'][['LocationDesc','Data_Value', 'Question', \"YearStart\" ]]\n",
        "x_all = question[question['YearStart'] == 2014][['LocationDesc','Data_Value' ]]\n",
        "x = question[question['YearStart'] == 2014][['Data_Value' ]].values"
      ],
      "metadata": {
        "id": "GVyrAPJFoUei"
      },
      "execution_count": 7,
      "outputs": []
    },
    {
      "cell_type": "code",
      "source": [
        "x=x.reshape(-1,1)\n",
        "x"
      ],
      "metadata": {
        "colab": {
          "base_uri": "https://localhost:8080/"
        },
        "id": "CwvfgAJqohT2",
        "outputId": "411d3ee4-a033-474d-8b3a-97b97de8dba0"
      },
      "execution_count": 8,
      "outputs": [
        {
          "output_type": "execute_result",
          "data": {
            "text/plain": [
              "array([[27.6],\n",
              "       [19.2],\n",
              "       [21.2],\n",
              "       [30.7],\n",
              "       [21.7],\n",
              "       [16.4],\n",
              "       [20.6],\n",
              "       [24.9],\n",
              "       [20.8],\n",
              "       [23.7],\n",
              "       [23.6],\n",
              "       [27.7],\n",
              "       [19.6],\n",
              "       [18.7],\n",
              "       [23.9],\n",
              "       [26.1],\n",
              "       [22.6],\n",
              "       [23.8],\n",
              "       [28.2],\n",
              "       [29.5],\n",
              "       [19.7],\n",
              "       [21.4],\n",
              "       [20.1],\n",
              "       [25.5],\n",
              "       [20.2],\n",
              "       [31.6],\n",
              "       [25. ],\n",
              "       [19.6],\n",
              "       [23.7],\n",
              "       [21.3],\n",
              "       [22.5],\n",
              "       [19.3],\n",
              "       [23.3],\n",
              "       [23.3],\n",
              "       [25.9],\n",
              "       [23.2],\n",
              "       [21.3],\n",
              "       [25. ],\n",
              "       [28.3],\n",
              "       [16.5],\n",
              "       [23.3],\n",
              "       [40.6],\n",
              "       [22.5],\n",
              "       [25.3],\n",
              "       [21.2],\n",
              "       [26.8],\n",
              "       [27.6],\n",
              "       [16.8],\n",
              "       [19. ],\n",
              "       [23.5],\n",
              "       [18.1],\n",
              "       [28.7],\n",
              "       [21.2],\n",
              "       [22.1]])"
            ]
          },
          "metadata": {},
          "execution_count": 8
        }
      ]
    },
    {
      "cell_type": "code",
      "source": [
        "wrangled = df[df['StratificationID1'] == 'OVERALL'][['LocationDesc','Data_Value', 'Question', \"YearStart\" ]]\n",
        "year = wrangled[wrangled['Question'] == 'Percent of adults aged 18 years and older who have obesity'][['LocationDesc','Data_Value', 'Question', \"YearStart\" ]]\n",
        "y_all = year[year['YearStart'] == 2014][['LocationDesc','Data_Value' ]]\n",
        "y = year[year['YearStart'] == 2014][['Data_Value' ]].values\n"
      ],
      "metadata": {
        "id": "hYLcbCZTovsh"
      },
      "execution_count": 9,
      "outputs": []
    },
    {
      "cell_type": "code",
      "source": [
        "y=y.reshape(-1,1)\n",
        "y"
      ],
      "metadata": {
        "colab": {
          "base_uri": "https://localhost:8080/"
        },
        "id": "QJvvaL5Go0EH",
        "outputId": "cb6be670-37d3-4f27-cc54-a38e8d1facbe"
      },
      "execution_count": 10,
      "outputs": [
        {
          "output_type": "execute_result",
          "data": {
            "text/plain": [
              "array([[33.5],\n",
              "       [29.7],\n",
              "       [28.9],\n",
              "       [35.9],\n",
              "       [24.7],\n",
              "       [21.3],\n",
              "       [26.3],\n",
              "       [30.7],\n",
              "       [21.7],\n",
              "       [26.2],\n",
              "       [30.5],\n",
              "       [28. ],\n",
              "       [22.1],\n",
              "       [28.9],\n",
              "       [29.3],\n",
              "       [32.7],\n",
              "       [30.9],\n",
              "       [31.3],\n",
              "       [31.6],\n",
              "       [34.9],\n",
              "       [28.2],\n",
              "       [29.6],\n",
              "       [23.3],\n",
              "       [30.7],\n",
              "       [27.6],\n",
              "       [35.5],\n",
              "       [30.2],\n",
              "       [26.4],\n",
              "       [28.9],\n",
              "       [30.2],\n",
              "       [27.7],\n",
              "       [27.4],\n",
              "       [26.9],\n",
              "       [28.4],\n",
              "       [27. ],\n",
              "       [29.7],\n",
              "       [32.2],\n",
              "       [32.6],\n",
              "       [33. ],\n",
              "       [27.9],\n",
              "       [30.2],\n",
              "       [28.3],\n",
              "       [27. ],\n",
              "       [32.1],\n",
              "       [29.8],\n",
              "       [31.2],\n",
              "       [31.9],\n",
              "       [25.7],\n",
              "       [24.8],\n",
              "       [28.5],\n",
              "       [27.3],\n",
              "       [35.7],\n",
              "       [31.2],\n",
              "       [29.5]])"
            ]
          },
          "metadata": {},
          "execution_count": 10
        }
      ]
    },
    {
      "cell_type": "code",
      "source": [
        "x_train, x_test, y_train, y_test = train_test_split(x, y, train_size=.8, test_size=.2, random_state=100)"
      ],
      "metadata": {
        "id": "ubjQXsJno74N"
      },
      "execution_count": 11,
      "outputs": []
    },
    {
      "cell_type": "code",
      "source": [
        "plt.scatter(x_train, y_train, color='orange')\n",
        "plt.xlabel('% Adults with reporting no leisure Physical Activity')\n",
        "plt.ylabel('% of Adults who have Obesity')\n",
        "plt.title('Physical Data')\n",
        "plt.show()"
      ],
      "metadata": {
        "colab": {
          "base_uri": "https://localhost:8080/",
          "height": 295
        },
        "id": "P1nyJMbapBq9",
        "outputId": "6834a76e-a2bc-40e7-d52b-b22c0c39e6d1"
      },
      "execution_count": 12,
      "outputs": [
        {
          "output_type": "display_data",
          "data": {
            "image/png": "[encoded data removed]",
            "text/plain": [
              "<Figure size 432x288 with 1 Axes>"
            ]
          },
          "metadata": {
            "needs_background": "light"
          }
        }
      ]
    },
    {
      "cell_type": "code",
      "source": [
        "lm = LinearRegression()\n",
        "lm.fit(x_train, y_train)\n",
        "y_predict = lm.predict(x_test)"
      ],
      "metadata": {
        "id": "ksJ3AIAspQkL"
      },
      "execution_count": 13,
      "outputs": []
    },
    {
      "cell_type": "code",
      "source": [
        "print(f'Train Accuracy {round(lm.score(x_train, y_train)* 100,2)}%')\n",
        "print(f'Test Accuracy {round(lm.score(x_test, y_test)* 100,2)}%')"
      ],
      "metadata": {
        "colab": {
          "base_uri": "https://localhost:8080/"
        },
        "id": "huZGVTWFpWqD",
        "outputId": "69563a28-b3de-41ba-c783-b40e81b7b979"
      },
      "execution_count": 14,
      "outputs": [
        {
          "output_type": "stream",
          "name": "stdout",
          "text": [
            "Train Accuracy 29.76%\n",
            "Test Accuracy 44.09%\n"
          ]
        }
      ]
    },
    {
      "cell_type": "code",
      "source": [
        "plt.scatter(x_train,y_train,color='green');\n",
        "plt.scatter(x_test,y_predict,color='red');\n",
        "plt.scatter(x_test,y_predict,color='orange');\n",
        "plt.show()"
        
      ],
      "metadata": {
        "colab": {
          "base_uri": "https://localhost:8080/",
          "height": 265
        },
        "id": "UU-PkC6Rp9_o",
        "outputId": "42f34dc3-b8b6-48c5-b122-92c2f3204b60"
      },
      "execution_count": 15,
      "outputs": [
        {
          "output_type": "display_data",
          "data": {
            "image/png": "[encoded data removed]",
            "text/plain": [
              "<Figure size 432x288 with 1 Axes>"
            ]
          },
          "metadata": {
            "needs_background": "light"
          }
        }
      ]
    }
  ]
}
